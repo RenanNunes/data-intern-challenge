{
 "cells": [
  {
   "cell_type": "markdown",
   "metadata": {},
   "source": [
    "# Data Intern Challenge - Stone\n",
    "\n",
    "This notebook was created to solve the Conta Stone's data challenge for intern applicants.\n",
    "\n",
    "The database used for the challenge contains credit card transactional data in 4 tables:\n",
    "\n",
    "- `customers`\n",
    "- `cards`\n",
    "- `transactions`\n",
    "- `frauds`\n",
    "\n",
    "It will be used SQL to extract them and Python to analyze it.\n",
    "\n",
    "The questions/requirements will be explained as we go.\n",
    "\n",
    "## Imports and database connection\n",
    "\n",
    "First, some libraries will be imported and the connection with the database will be created."
   ]
  },
  {
   "cell_type": "code",
   "execution_count": 1,
   "metadata": {},
   "outputs": [],
   "source": [
    "import psycopg2\n",
    "import pandas as pd\n",
    "import numpy as np\n",
    "import matplotlib.pyplot as plt"
   ]
  },
  {
   "cell_type": "code",
   "execution_count": 2,
   "metadata": {},
   "outputs": [],
   "source": [
    "connection = psycopg2.connect(\n",
    "    database=\"postgres\",\n",
    "    user=\"read_only_user\",\n",
    "    password=\"banking123\",\n",
    "    host=\"db-stone.cjepwwjnksng.us-east-1.rds.amazonaws.com\",\n",
    "    port='5432'\n",
    ")"
   ]
  },
  {
   "cell_type": "markdown",
   "metadata": {},
   "source": [
    "## First exercise\n",
    "\n",
    "1. Extract and analyze the data in the database in order to answer the following questions. Provide a description and/or comments for each solution."
   ]
  },
  {
   "cell_type": "markdown",
   "metadata": {},
   "source": [
    "- What is the average `age` of the customers in the database?\n",
    "\n",
    "To answer this question, we will first import the `customers` table into a DataFrame, then take a look in its columns."
   ]
  },
  {
   "cell_type": "code",
   "execution_count": 3,
   "metadata": {},
   "outputs": [
    {
     "name": "stdout",
     "output_type": "stream",
     "text": [
      "<class 'pandas.core.frame.DataFrame'>\n",
      "RangeIndex: 5674 entries, 0 to 5673\n",
      "Data columns (total 4 columns):\n",
      "id               5674 non-null object\n",
      "age              5674 non-null int64\n",
      "segment          5674 non-null object\n",
      "vintage_group    5674 non-null object\n",
      "dtypes: int64(1), object(3)\n",
      "memory usage: 177.4+ KB\n"
     ]
    }
   ],
   "source": [
    "customers = pd.read_sql(\"SELECT * FROM CUSTOMERS\", connection)\n",
    "customers.info()"
   ]
  },
  {
   "cell_type": "code",
   "execution_count": 4,
   "metadata": {},
   "outputs": [
    {
     "data": {
      "text/html": [
       "<div>\n",
       "<style scoped>\n",
       "    .dataframe tbody tr th:only-of-type {\n",
       "        vertical-align: middle;\n",
       "    }\n",
       "\n",
       "    .dataframe tbody tr th {\n",
       "        vertical-align: top;\n",
       "    }\n",
       "\n",
       "    .dataframe thead th {\n",
       "        text-align: right;\n",
       "    }\n",
       "</style>\n",
       "<table border=\"1\" class=\"dataframe\">\n",
       "  <thead>\n",
       "    <tr style=\"text-align: right;\">\n",
       "      <th></th>\n",
       "      <th>id</th>\n",
       "      <th>age</th>\n",
       "      <th>segment</th>\n",
       "      <th>vintage_group</th>\n",
       "    </tr>\n",
       "  </thead>\n",
       "  <tbody>\n",
       "    <tr>\n",
       "      <th>0</th>\n",
       "      <td>CC25034</td>\n",
       "      <td>35</td>\n",
       "      <td>Diamond</td>\n",
       "      <td>VG1</td>\n",
       "    </tr>\n",
       "    <tr>\n",
       "      <th>1</th>\n",
       "      <td>CC59625</td>\n",
       "      <td>22</td>\n",
       "      <td>Diamond</td>\n",
       "      <td>VG1</td>\n",
       "    </tr>\n",
       "    <tr>\n",
       "      <th>2</th>\n",
       "      <td>CC69314</td>\n",
       "      <td>33</td>\n",
       "      <td>Diamond</td>\n",
       "      <td>VG1</td>\n",
       "    </tr>\n",
       "    <tr>\n",
       "      <th>3</th>\n",
       "      <td>CC67036</td>\n",
       "      <td>46</td>\n",
       "      <td>Diamond</td>\n",
       "      <td>VG1</td>\n",
       "    </tr>\n",
       "    <tr>\n",
       "      <th>4</th>\n",
       "      <td>CC25597</td>\n",
       "      <td>44</td>\n",
       "      <td>Diamond</td>\n",
       "      <td>VG1</td>\n",
       "    </tr>\n",
       "  </tbody>\n",
       "</table>\n",
       "</div>"
      ],
      "text/plain": [
       "        id  age  segment vintage_group\n",
       "0  CC25034   35  Diamond           VG1\n",
       "1  CC59625   22  Diamond           VG1\n",
       "2  CC69314   33  Diamond           VG1\n",
       "3  CC67036   46  Diamond           VG1\n",
       "4  CC25597   44  Diamond           VG1"
      ]
     },
     "execution_count": 4,
     "metadata": {},
     "output_type": "execute_result"
    }
   ],
   "source": [
    "customers.head()"
   ]
  },
  {
   "cell_type": "markdown",
   "metadata": {},
   "source": [
    "Now that we know its columns, we can calculate the average `age` on this database."
   ]
  },
  {
   "cell_type": "code",
   "execution_count": 5,
   "metadata": {},
   "outputs": [
    {
     "name": "stdout",
     "output_type": "stream",
     "text": [
      "The average age of the customers in the database is 35.059922453295734\n"
     ]
    }
   ],
   "source": [
    "print(\"The average age of the customers in the database is\", np.average(customers.age))"
   ]
  },
  {
   "cell_type": "markdown",
   "metadata": {},
   "source": [
    "It is interesting to see that the average age is lower than the average age of the brazilian entrepreneur, which is 44.7 years old according to SEBRAE (https://datasebrae.com.br/perfil-dos-empresarios/, data from 2016). This may indicate that the Conta Stone public is, in general, younger.\n",
    "\n",
    "To have a better understanding of the age distribution, we can see the percentiles below:"
   ]
  },
  {
   "cell_type": "code",
   "execution_count": 6,
   "metadata": {},
   "outputs": [
    {
     "data": {
      "text/plain": [
       "count    5674.000000\n",
       "mean       35.059922\n",
       "std         8.962637\n",
       "min        20.000000\n",
       "25%        27.000000\n",
       "50%        35.000000\n",
       "75%        43.000000\n",
       "max        50.000000\n",
       "Name: age, dtype: float64"
      ]
     },
     "execution_count": 6,
     "metadata": {},
     "output_type": "execute_result"
    }
   ],
   "source": [
    "customers.age.describe()"
   ]
  },
  {
   "cell_type": "markdown",
   "metadata": {},
   "source": [
    "The percentiles show that 75% of the dataset has 43 years old or less and the older person has 50, which shows that the public really is younger. One possible explanation for this is that older entrepreneurs still look for the traditional banks instead of going for a more technological and client-oriented one, because they feel safer there.\n",
    "\n",
    "Obs: alternative query to get the result directly: `SELECT AVG(age) FROM customers`"
   ]
  },
  {
   "cell_type": "markdown",
   "metadata": {},
   "source": [
    "- How is the `card_family` ranked based on the `credit_limit` given to each card?\n",
    "\n",
    "For this question, we will analyze the information on the other tables first."
   ]
  },
  {
   "cell_type": "code",
   "execution_count": 7,
   "metadata": {},
   "outputs": [],
   "source": [
    "cards = pd.read_sql(\"SELECT * FROM cards\", connection)\n",
    "transactions = pd.read_sql(\"SELECT * FROM transactions\", connection)\n",
    "frauds = pd.read_sql(\"SELECT * FROM frauds\", connection)"
   ]
  },
  {
   "cell_type": "code",
   "execution_count": 8,
   "metadata": {},
   "outputs": [
    {
     "name": "stdout",
     "output_type": "stream",
     "text": [
      "PostgreSQL connection is now closed\n"
     ]
    }
   ],
   "source": [
    "# Closing the database connection since all tables are already loaded in DataFrames\n",
    "connection.close()\n",
    "print(\"PostgreSQL connection is now closed\")"
   ]
  },
  {
   "cell_type": "code",
   "execution_count": 9,
   "metadata": {},
   "outputs": [
    {
     "name": "stdout",
     "output_type": "stream",
     "text": [
      "<class 'pandas.core.frame.DataFrame'>\n",
      "RangeIndex: 500 entries, 0 to 499\n",
      "Data columns (total 4 columns):\n",
      "card_number     500 non-null object\n",
      "card_family     500 non-null object\n",
      "credit_limit    500 non-null int64\n",
      "customer_id     500 non-null object\n",
      "dtypes: int64(1), object(3)\n",
      "memory usage: 15.8+ KB\n"
     ]
    }
   ],
   "source": [
    "cards.info()"
   ]
  },
  {
   "cell_type": "code",
   "execution_count": 10,
   "metadata": {},
   "outputs": [
    {
     "name": "stdout",
     "output_type": "stream",
     "text": [
      "<class 'pandas.core.frame.DataFrame'>\n",
      "RangeIndex: 10000 entries, 0 to 9999\n",
      "Data columns (total 5 columns):\n",
      "id                  10000 non-null object\n",
      "card_number         10000 non-null object\n",
      "transaction_date    10000 non-null object\n",
      "value               10000 non-null int64\n",
      "segment             10000 non-null object\n",
      "dtypes: int64(1), object(4)\n",
      "memory usage: 390.8+ KB\n"
     ]
    }
   ],
   "source": [
    "transactions.info()"
   ]
  },
  {
   "cell_type": "code",
   "execution_count": 11,
   "metadata": {},
   "outputs": [],
   "source": [
    "# transaction_date is a date, so we will convert it\n",
    "transactions['transaction_date'] = pd.to_datetime(transactions.transaction_date)"
   ]
  },
  {
   "cell_type": "code",
   "execution_count": 12,
   "metadata": {},
   "outputs": [
    {
     "name": "stdout",
     "output_type": "stream",
     "text": [
      "<class 'pandas.core.frame.DataFrame'>\n",
      "RangeIndex: 109 entries, 0 to 108\n",
      "Data columns (total 2 columns):\n",
      "transaction_id    109 non-null object\n",
      "fraud_flag        109 non-null bool\n",
      "dtypes: bool(1), object(1)\n",
      "memory usage: 1.1+ KB\n"
     ]
    }
   ],
   "source": [
    "frauds.info()"
   ]
  },
  {
   "cell_type": "markdown",
   "metadata": {},
   "source": [
    "The information that we want is only on the cards table, therefore we will explore this table now:"
   ]
  },
  {
   "cell_type": "code",
   "execution_count": 13,
   "metadata": {},
   "outputs": [
    {
     "data": {
      "text/html": [
       "<div>\n",
       "<style scoped>\n",
       "    .dataframe tbody tr th:only-of-type {\n",
       "        vertical-align: middle;\n",
       "    }\n",
       "\n",
       "    .dataframe tbody tr th {\n",
       "        vertical-align: top;\n",
       "    }\n",
       "\n",
       "    .dataframe thead th {\n",
       "        text-align: right;\n",
       "    }\n",
       "</style>\n",
       "<table border=\"1\" class=\"dataframe\">\n",
       "  <thead>\n",
       "    <tr style=\"text-align: right;\">\n",
       "      <th></th>\n",
       "      <th>card_number</th>\n",
       "      <th>card_family</th>\n",
       "      <th>credit_limit</th>\n",
       "      <th>customer_id</th>\n",
       "    </tr>\n",
       "  </thead>\n",
       "  <tbody>\n",
       "    <tr>\n",
       "      <th>0</th>\n",
       "      <td>8638-5407-3631-8196</td>\n",
       "      <td>Premium</td>\n",
       "      <td>530000</td>\n",
       "      <td>CC67088</td>\n",
       "    </tr>\n",
       "    <tr>\n",
       "      <th>1</th>\n",
       "      <td>7106-4239-7093-1515</td>\n",
       "      <td>Gold</td>\n",
       "      <td>18000</td>\n",
       "      <td>CC12076</td>\n",
       "    </tr>\n",
       "    <tr>\n",
       "      <th>2</th>\n",
       "      <td>6492-5655-8241-3530</td>\n",
       "      <td>Premium</td>\n",
       "      <td>596000</td>\n",
       "      <td>CC97173</td>\n",
       "    </tr>\n",
       "    <tr>\n",
       "      <th>3</th>\n",
       "      <td>2868-5606-5152-5706</td>\n",
       "      <td>Gold</td>\n",
       "      <td>27000</td>\n",
       "      <td>CC55858</td>\n",
       "    </tr>\n",
       "    <tr>\n",
       "      <th>4</th>\n",
       "      <td>1438-6906-2509-8219</td>\n",
       "      <td>Platinum</td>\n",
       "      <td>142000</td>\n",
       "      <td>CC90518</td>\n",
       "    </tr>\n",
       "  </tbody>\n",
       "</table>\n",
       "</div>"
      ],
      "text/plain": [
       "           card_number card_family  credit_limit customer_id\n",
       "0  8638-5407-3631-8196     Premium        530000     CC67088\n",
       "1  7106-4239-7093-1515        Gold         18000     CC12076\n",
       "2  6492-5655-8241-3530     Premium        596000     CC97173\n",
       "3  2868-5606-5152-5706        Gold         27000     CC55858\n",
       "4  1438-6906-2509-8219    Platinum        142000     CC90518"
      ]
     },
     "execution_count": 13,
     "metadata": {},
     "output_type": "execute_result"
    }
   ],
   "source": [
    "cards.head()"
   ]
  },
  {
   "cell_type": "code",
   "execution_count": 14,
   "metadata": {},
   "outputs": [],
   "source": [
    "cards_grouped_by_family = cards[['card_family', 'credit_limit']].groupby('card_family')"
   ]
  },
  {
   "cell_type": "code",
   "execution_count": 15,
   "metadata": {},
   "outputs": [
    {
     "data": {
      "text/html": [
       "<div>\n",
       "<style scoped>\n",
       "    .dataframe tbody tr th:only-of-type {\n",
       "        vertical-align: middle;\n",
       "    }\n",
       "\n",
       "    .dataframe tbody tr th {\n",
       "        vertical-align: top;\n",
       "    }\n",
       "\n",
       "    .dataframe thead tr th {\n",
       "        text-align: left;\n",
       "    }\n",
       "\n",
       "    .dataframe thead tr:last-of-type th {\n",
       "        text-align: right;\n",
       "    }\n",
       "</style>\n",
       "<table border=\"1\" class=\"dataframe\">\n",
       "  <thead>\n",
       "    <tr>\n",
       "      <th></th>\n",
       "      <th colspan=\"8\" halign=\"left\">credit_limit</th>\n",
       "    </tr>\n",
       "    <tr>\n",
       "      <th></th>\n",
       "      <th>count</th>\n",
       "      <th>mean</th>\n",
       "      <th>std</th>\n",
       "      <th>min</th>\n",
       "      <th>25%</th>\n",
       "      <th>50%</th>\n",
       "      <th>75%</th>\n",
       "      <th>max</th>\n",
       "    </tr>\n",
       "    <tr>\n",
       "      <th>card_family</th>\n",
       "      <th></th>\n",
       "      <th></th>\n",
       "      <th></th>\n",
       "      <th></th>\n",
       "      <th></th>\n",
       "      <th></th>\n",
       "      <th></th>\n",
       "      <th></th>\n",
       "    </tr>\n",
       "  </thead>\n",
       "  <tbody>\n",
       "    <tr>\n",
       "      <th>Gold</th>\n",
       "      <td>181.0</td>\n",
       "      <td>27878.453039</td>\n",
       "      <td>13495.127921</td>\n",
       "      <td>2000.0</td>\n",
       "      <td>17000.0</td>\n",
       "      <td>28000.0</td>\n",
       "      <td>38000.0</td>\n",
       "      <td>50000.0</td>\n",
       "    </tr>\n",
       "    <tr>\n",
       "      <th>Platinum</th>\n",
       "      <td>112.0</td>\n",
       "      <td>131294.642857</td>\n",
       "      <td>43272.369811</td>\n",
       "      <td>51000.0</td>\n",
       "      <td>101500.0</td>\n",
       "      <td>136500.0</td>\n",
       "      <td>166250.0</td>\n",
       "      <td>200000.0</td>\n",
       "    </tr>\n",
       "    <tr>\n",
       "      <th>Premium</th>\n",
       "      <td>207.0</td>\n",
       "      <td>514763.285024</td>\n",
       "      <td>232013.740397</td>\n",
       "      <td>108000.0</td>\n",
       "      <td>325000.0</td>\n",
       "      <td>516000.0</td>\n",
       "      <td>710000.0</td>\n",
       "      <td>899000.0</td>\n",
       "    </tr>\n",
       "  </tbody>\n",
       "</table>\n",
       "</div>"
      ],
      "text/plain": [
       "            credit_limit                                                    \\\n",
       "                   count           mean            std       min       25%   \n",
       "card_family                                                                  \n",
       "Gold               181.0   27878.453039   13495.127921    2000.0   17000.0   \n",
       "Platinum           112.0  131294.642857   43272.369811   51000.0  101500.0   \n",
       "Premium            207.0  514763.285024  232013.740397  108000.0  325000.0   \n",
       "\n",
       "                                           \n",
       "                  50%       75%       max  \n",
       "card_family                                \n",
       "Gold          28000.0   38000.0   50000.0  \n",
       "Platinum     136500.0  166250.0  200000.0  \n",
       "Premium      516000.0  710000.0  899000.0  "
      ]
     },
     "execution_count": 15,
     "metadata": {},
     "output_type": "execute_result"
    }
   ],
   "source": [
    "cards_grouped_by_family.describe()"
   ]
  },
  {
   "cell_type": "code",
   "execution_count": 16,
   "metadata": {},
   "outputs": [
    {
     "data": {
      "image/png": "[encoded data removed]",
      "text/plain": [
       "<Figure size 432x288 with 1 Axes>"
      ]
     },
     "metadata": {
      "needs_background": "light"
     },
     "output_type": "display_data"
    }
   ],
   "source": [
    "plt.title('Histogram of Credit limit')\n",
    "plt.xlabel('Credit limit')\n",
    "plt.ylabel('Number of cards')\n",
    "plt.hist(cards[cards.card_family == 'Premium']['credit_limit'].values, label='Premium', bins=14)\n",
    "plt.hist(cards[cards.card_family == 'Platinum']['credit_limit'].values, label='Platinum')\n",
    "plt.hist(cards[cards.card_family == 'Gold']['credit_limit'].values, label='Gold')\n",
    "plt.legend(loc='best')\n",
    "plt.show()"
   ]
  },
  {
   "cell_type": "markdown",
   "metadata": {},
   "source": [
    "With the plot we can see the `family_card` ranking by `credit_limit`. In general: `Gold < Platinum < Premium`.\n",
    "\n",
    "For Gold, the maximum value is smaller than the smaller value for Platinum, therefore the division between them is easier to identify. When comparing Platinum and Premium, there is a overlap in a area of the graph, but more than 75% of the Premium cards have greater limit than the maximum Platinum limit. Besides that, the Premium maximum value is way greater than the Platinum, so it presents a wider range of distinct limits."
   ]
  },
  {
   "cell_type": "markdown",
   "metadata": {},
   "source": [
    "- For the transactions flagged as fraud, what are the `id`s of the transactions with the highest value?\n",
    "\n",
    "For this question, we need to join the `transactions` table with the `frauds`."
   ]
  },
  {
   "cell_type": "code",
   "execution_count": 17,
   "metadata": {},
   "outputs": [
    {
     "data": {
      "text/plain": [
       "array([ True])"
      ]
     },
     "execution_count": 17,
     "metadata": {},
     "output_type": "execute_result"
    }
   ],
   "source": [
    "# Checking if the fraud_flag can be False\n",
    "frauds.fraud_flag.unique()"
   ]
  },
  {
   "cell_type": "code",
   "execution_count": 18,
   "metadata": {},
   "outputs": [
    {
     "data": {
      "text/html": [
       "<div>\n",
       "<style scoped>\n",
       "    .dataframe tbody tr th:only-of-type {\n",
       "        vertical-align: middle;\n",
       "    }\n",
       "\n",
       "    .dataframe tbody tr th {\n",
       "        vertical-align: top;\n",
       "    }\n",
       "\n",
       "    .dataframe thead th {\n",
       "        text-align: right;\n",
       "    }\n",
       "</style>\n",
       "<table border=\"1\" class=\"dataframe\">\n",
       "  <thead>\n",
       "    <tr style=\"text-align: right;\">\n",
       "      <th></th>\n",
       "      <th>transaction_id</th>\n",
       "      <th>fraud_flag</th>\n",
       "      <th>id</th>\n",
       "      <th>card_number</th>\n",
       "      <th>transaction_date</th>\n",
       "      <th>value</th>\n",
       "      <th>segment</th>\n",
       "    </tr>\n",
       "  </thead>\n",
       "  <tbody>\n",
       "    <tr>\n",
       "      <th>0</th>\n",
       "      <td>CTID50558449</td>\n",
       "      <td>True</td>\n",
       "      <td>CTID50558449</td>\n",
       "      <td>4246-1369-3659-8804</td>\n",
       "      <td>2016-05-06</td>\n",
       "      <td>6984</td>\n",
       "      <td>SEG23</td>\n",
       "    </tr>\n",
       "    <tr>\n",
       "      <th>1</th>\n",
       "      <td>CTID55936882</td>\n",
       "      <td>True</td>\n",
       "      <td>CTID55936882</td>\n",
       "      <td>1336-9200-1264-2551</td>\n",
       "      <td>2016-11-29</td>\n",
       "      <td>34367</td>\n",
       "      <td>SEG21</td>\n",
       "    </tr>\n",
       "    <tr>\n",
       "      <th>2</th>\n",
       "      <td>CTID63762180</td>\n",
       "      <td>True</td>\n",
       "      <td>CTID63762180</td>\n",
       "      <td>8528-6154-7390-5081</td>\n",
       "      <td>2016-12-05</td>\n",
       "      <td>44550</td>\n",
       "      <td>SEG15</td>\n",
       "    </tr>\n",
       "    <tr>\n",
       "      <th>3</th>\n",
       "      <td>CTID76723439</td>\n",
       "      <td>True</td>\n",
       "      <td>CTID76723439</td>\n",
       "      <td>7908-2695-7391-7499</td>\n",
       "      <td>2016-09-15</td>\n",
       "      <td>48275</td>\n",
       "      <td>SEG16</td>\n",
       "    </tr>\n",
       "    <tr>\n",
       "      <th>4</th>\n",
       "      <td>CTID21246201</td>\n",
       "      <td>True</td>\n",
       "      <td>CTID21246201</td>\n",
       "      <td>2524-4184-5908-6750</td>\n",
       "      <td>2016-02-29</td>\n",
       "      <td>35751</td>\n",
       "      <td>SEG25</td>\n",
       "    </tr>\n",
       "  </tbody>\n",
       "</table>\n",
       "</div>"
      ],
      "text/plain": [
       "  transaction_id  fraud_flag            id          card_number  \\\n",
       "0   CTID50558449        True  CTID50558449  4246-1369-3659-8804   \n",
       "1   CTID55936882        True  CTID55936882  1336-9200-1264-2551   \n",
       "2   CTID63762180        True  CTID63762180  8528-6154-7390-5081   \n",
       "3   CTID76723439        True  CTID76723439  7908-2695-7391-7499   \n",
       "4   CTID21246201        True  CTID21246201  2524-4184-5908-6750   \n",
       "\n",
       "  transaction_date  value segment  \n",
       "0       2016-05-06   6984   SEG23  \n",
       "1       2016-11-29  34367   SEG21  \n",
       "2       2016-12-05  44550   SEG15  \n",
       "3       2016-09-15  48275   SEG16  \n",
       "4       2016-02-29  35751   SEG25  "
      ]
     },
     "execution_count": 18,
     "metadata": {},
     "output_type": "execute_result"
    }
   ],
   "source": [
    "fraud_transactions = frauds.merge(transactions, left_on='transaction_id', right_on='id')\n",
    "fraud_transactions.head()"
   ]
  },
  {
   "cell_type": "code",
   "execution_count": 19,
   "metadata": {},
   "outputs": [
    {
     "data": {
      "text/html": [
       "<div>\n",
       "<style scoped>\n",
       "    .dataframe tbody tr th:only-of-type {\n",
       "        vertical-align: middle;\n",
       "    }\n",
       "\n",
       "    .dataframe tbody tr th {\n",
       "        vertical-align: top;\n",
       "    }\n",
       "\n",
       "    .dataframe thead th {\n",
       "        text-align: right;\n",
       "    }\n",
       "</style>\n",
       "<table border=\"1\" class=\"dataframe\">\n",
       "  <thead>\n",
       "    <tr style=\"text-align: right;\">\n",
       "      <th></th>\n",
       "      <th>transaction_id</th>\n",
       "      <th>fraud_flag</th>\n",
       "      <th>id</th>\n",
       "      <th>card_number</th>\n",
       "      <th>transaction_date</th>\n",
       "      <th>value</th>\n",
       "      <th>segment</th>\n",
       "    </tr>\n",
       "  </thead>\n",
       "  <tbody>\n",
       "    <tr>\n",
       "      <th>6</th>\n",
       "      <td>CTID20567160</td>\n",
       "      <td>True</td>\n",
       "      <td>CTID20567160</td>\n",
       "      <td>3295-6390-4452-7199</td>\n",
       "      <td>2016-10-08</td>\n",
       "      <td>49155</td>\n",
       "      <td>SEG16</td>\n",
       "    </tr>\n",
       "  </tbody>\n",
       "</table>\n",
       "</div>"
      ],
      "text/plain": [
       "  transaction_id  fraud_flag            id          card_number  \\\n",
       "6   CTID20567160        True  CTID20567160  3295-6390-4452-7199   \n",
       "\n",
       "  transaction_date  value segment  \n",
       "6       2016-10-08  49155   SEG16  "
      ]
     },
     "execution_count": 19,
     "metadata": {},
     "output_type": "execute_result"
    }
   ],
   "source": [
    "highest_value_fraud = fraud_transactions[fraud_transactions.value == fraud_transactions.value.max()]\n",
    "highest_value_fraud"
   ]
  },
  {
   "cell_type": "code",
   "execution_count": 20,
   "metadata": {},
   "outputs": [
    {
     "name": "stdout",
     "output_type": "stream",
     "text": [
      "The transaction id flagged as fraud with the highest value is: CTID20567160\n"
     ]
    }
   ],
   "source": [
    "print(\"The transaction id flagged as fraud with the highest value is:\", highest_value_fraud['id'].values[0])"
   ]
  },
  {
   "cell_type": "code",
   "execution_count": 21,
   "metadata": {},
   "outputs": [
    {
     "data": {
      "image/png": "[encoded data removed]",
      "text/plain": [
       "<Figure size 864x360 with 2 Axes>"
      ]
     },
     "metadata": {
      "needs_background": "light"
     },
     "output_type": "display_data"
    }
   ],
   "source": [
    "fig, axs = plt.subplots(1, 2, figsize=(12, 5))\n",
    "axs[0].set_title('Histogram of all transaction values')\n",
    "axs[0].hist(transactions.value, bins=20)\n",
    "axs[1].set_title('Histogram of transaction values flagged as fraud')\n",
    "axs[1].hist(fraud_transactions.value, bins=20)\n",
    "plt.show()"
   ]
  },
  {
   "cell_type": "markdown",
   "metadata": {},
   "source": [
    "While the transactions value distribution tends to be uniform, the value of flagged transactions is a little more random, with two bigger peaks: one around 10000 and another around 35000."
   ]
  },
  {
   "cell_type": "markdown",
   "metadata": {},
   "source": [
    "## Second exercise\n",
    "\n",
    "2. Analysis:\n",
    "\n",
    "    - Analyze whether or not the fraudulent transactions are somehow associated to the other features of the dataset. Explain your results.\n",
    "    \n",
    "To facilitate the analysis, first, we will get all the important information in the same dataset. The chosen variables (and their origin datasets) are:\n",
    "\n",
    "- `cards`:\n",
    "    - `card_family`\n",
    "    - `credit_limit` (both variables are correlated, but, because of the overlap on Platinum and Premium, it was decided to keep both and pay attention to it)\n",
    "- `customers`:\n",
    "    - `age`\n",
    "    - `segment` (that is equivalent to `vintage_group` as shown in the next cell)\n",
    "- `transactions`:\n",
    "    - `transaction_date` (actually, it will be extracted the day, the day of the week and the month to see if these features are important)\n",
    "    - `value`\n",
    "    - `segment`\n",
    "- `frauds`:\n",
    "    - `fraud_flag`\n",
    "\n",
    "The ids and numbers will be used just to join the tables since they don't add useful information for the analysis."
   ]
  },
  {
   "cell_type": "code",
   "execution_count": 22,
   "metadata": {},
   "outputs": [
    {
     "data": {
      "text/html": [
       "<div>\n",
       "<style scoped>\n",
       "    .dataframe tbody tr th:only-of-type {\n",
       "        vertical-align: middle;\n",
       "    }\n",
       "\n",
       "    .dataframe tbody tr th {\n",
       "        vertical-align: top;\n",
       "    }\n",
       "\n",
       "    .dataframe thead th {\n",
       "        text-align: right;\n",
       "    }\n",
       "</style>\n",
       "<table border=\"1\" class=\"dataframe\">\n",
       "  <thead>\n",
       "    <tr style=\"text-align: right;\">\n",
       "      <th></th>\n",
       "      <th>count</th>\n",
       "      <th>unique</th>\n",
       "      <th>top</th>\n",
       "      <th>freq</th>\n",
       "    </tr>\n",
       "    <tr>\n",
       "      <th>segment</th>\n",
       "      <th></th>\n",
       "      <th></th>\n",
       "      <th></th>\n",
       "      <th></th>\n",
       "    </tr>\n",
       "  </thead>\n",
       "  <tbody>\n",
       "    <tr>\n",
       "      <th>Diamond</th>\n",
       "      <td>2524</td>\n",
       "      <td>1</td>\n",
       "      <td>VG1</td>\n",
       "      <td>2524</td>\n",
       "    </tr>\n",
       "    <tr>\n",
       "      <th>Gold</th>\n",
       "      <td>1839</td>\n",
       "      <td>1</td>\n",
       "      <td>VG3</td>\n",
       "      <td>1839</td>\n",
       "    </tr>\n",
       "    <tr>\n",
       "      <th>Platinum</th>\n",
       "      <td>1311</td>\n",
       "      <td>1</td>\n",
       "      <td>VG2</td>\n",
       "      <td>1311</td>\n",
       "    </tr>\n",
       "  </tbody>\n",
       "</table>\n",
       "</div>"
      ],
      "text/plain": [
       "         count unique  top  freq\n",
       "segment                         \n",
       "Diamond   2524      1  VG1  2524\n",
       "Gold      1839      1  VG3  1839\n",
       "Platinum  1311      1  VG2  1311"
      ]
     },
     "execution_count": 22,
     "metadata": {},
     "output_type": "execute_result"
    }
   ],
   "source": [
    "# Showing that segment and vintage_group are equivalente in the dataset)\n",
    "customers.groupby('segment').vintage_group.describe()"
   ]
  },
  {
   "cell_type": "markdown",
   "metadata": {},
   "source": [
    "### Merging tables"
   ]
  },
  {
   "cell_type": "code",
   "execution_count": 23,
   "metadata": {},
   "outputs": [],
   "source": [
    "transactions_with_fraud_flags = pd.merge(transactions, frauds, left_on='id', right_on='transaction_id', how='left')\n",
    "# transactions_with_fraud_flags.head()"
   ]
  },
  {
   "cell_type": "code",
   "execution_count": 24,
   "metadata": {},
   "outputs": [],
   "source": [
    "# Adjusting the added variables before next merge\n",
    "# The fraud_flag was inputed as True for the transactions in frauds table and NaN for the rest, we will change for False \n",
    "transactions_with_fraud_flags['fraud_flag'].fillna(False, inplace=True)\n",
    "transactions_with_fraud_flags_treated = transactions_with_fraud_flags.drop(columns=['transaction_id'])\n",
    "# transactions_with_fraud_flags_treated.head()"
   ]
  },
  {
   "cell_type": "code",
   "execution_count": 25,
   "metadata": {},
   "outputs": [],
   "source": [
    "transaction_with_fraud_and_card = pd.merge(transactions_with_fraud_flags_treated, cards, on='card_number')\n",
    "# transaction_with_fraud_and_card.head()"
   ]
  },
  {
   "cell_type": "code",
   "execution_count": 26,
   "metadata": {},
   "outputs": [],
   "source": [
    "transaction_with_fraud_card_and_customers = pd.merge(transaction_with_fraud_and_card, customers, left_on='customer_id', right_on='id', suffixes=['','_customer'])\n",
    "# transaction_with_fraud_card_and_customers.head()"
   ]
  },
  {
   "cell_type": "code",
   "execution_count": 27,
   "metadata": {},
   "outputs": [],
   "source": [
    "# Dropping unnecessary variables\n",
    "transactions_aux = transaction_with_fraud_card_and_customers.drop(columns=['id', 'card_number', 'customer_id', 'id_customer', 'vintage_group'])\n",
    "# transactions_aux.head()"
   ]
  },
  {
   "cell_type": "markdown",
   "metadata": {},
   "source": [
    "### Creating the date features"
   ]
  },
  {
   "cell_type": "code",
   "execution_count": 28,
   "metadata": {},
   "outputs": [
    {
     "data": {
      "text/html": [
       "<div>\n",
       "<style scoped>\n",
       "    .dataframe tbody tr th:only-of-type {\n",
       "        vertical-align: middle;\n",
       "    }\n",
       "\n",
       "    .dataframe tbody tr th {\n",
       "        vertical-align: top;\n",
       "    }\n",
       "\n",
       "    .dataframe thead th {\n",
       "        text-align: right;\n",
       "    }\n",
       "</style>\n",
       "<table border=\"1\" class=\"dataframe\">\n",
       "  <thead>\n",
       "    <tr style=\"text-align: right;\">\n",
       "      <th></th>\n",
       "      <th>value</th>\n",
       "      <th>segment</th>\n",
       "      <th>fraud_flag</th>\n",
       "      <th>card_family</th>\n",
       "      <th>credit_limit</th>\n",
       "      <th>age</th>\n",
       "      <th>segment_customer</th>\n",
       "      <th>day</th>\n",
       "      <th>weekday</th>\n",
       "      <th>month</th>\n",
       "    </tr>\n",
       "  </thead>\n",
       "  <tbody>\n",
       "    <tr>\n",
       "      <th>0</th>\n",
       "      <td>23649</td>\n",
       "      <td>SEG25</td>\n",
       "      <td>False</td>\n",
       "      <td>Platinum</td>\n",
       "      <td>194000</td>\n",
       "      <td>23</td>\n",
       "      <td>Gold</td>\n",
       "      <td>24</td>\n",
       "      <td>Sunday</td>\n",
       "      <td>4</td>\n",
       "    </tr>\n",
       "    <tr>\n",
       "      <th>1</th>\n",
       "      <td>48307</td>\n",
       "      <td>SEG17</td>\n",
       "      <td>False</td>\n",
       "      <td>Platinum</td>\n",
       "      <td>194000</td>\n",
       "      <td>23</td>\n",
       "      <td>Gold</td>\n",
       "      <td>16</td>\n",
       "      <td>Saturday</td>\n",
       "      <td>1</td>\n",
       "    </tr>\n",
       "    <tr>\n",
       "      <th>2</th>\n",
       "      <td>14032</td>\n",
       "      <td>SEG25</td>\n",
       "      <td>False</td>\n",
       "      <td>Platinum</td>\n",
       "      <td>194000</td>\n",
       "      <td>23</td>\n",
       "      <td>Gold</td>\n",
       "      <td>27</td>\n",
       "      <td>Wednesday</td>\n",
       "      <td>4</td>\n",
       "    </tr>\n",
       "    <tr>\n",
       "      <th>3</th>\n",
       "      <td>11063</td>\n",
       "      <td>SEG24</td>\n",
       "      <td>False</td>\n",
       "      <td>Platinum</td>\n",
       "      <td>194000</td>\n",
       "      <td>23</td>\n",
       "      <td>Gold</td>\n",
       "      <td>5</td>\n",
       "      <td>Tuesday</td>\n",
       "      <td>7</td>\n",
       "    </tr>\n",
       "    <tr>\n",
       "      <th>4</th>\n",
       "      <td>47956</td>\n",
       "      <td>SEG18</td>\n",
       "      <td>False</td>\n",
       "      <td>Platinum</td>\n",
       "      <td>194000</td>\n",
       "      <td>23</td>\n",
       "      <td>Gold</td>\n",
       "      <td>30</td>\n",
       "      <td>Sunday</td>\n",
       "      <td>10</td>\n",
       "    </tr>\n",
       "  </tbody>\n",
       "</table>\n",
       "</div>"
      ],
      "text/plain": [
       "   value segment  fraud_flag card_family  credit_limit  age segment_customer  \\\n",
       "0  23649   SEG25       False    Platinum        194000   23             Gold   \n",
       "1  48307   SEG17       False    Platinum        194000   23             Gold   \n",
       "2  14032   SEG25       False    Platinum        194000   23             Gold   \n",
       "3  11063   SEG24       False    Platinum        194000   23             Gold   \n",
       "4  47956   SEG18       False    Platinum        194000   23             Gold   \n",
       "\n",
       "   day    weekday  month  \n",
       "0   24     Sunday      4  \n",
       "1   16   Saturday      1  \n",
       "2   27  Wednesday      4  \n",
       "3    5    Tuesday      7  \n",
       "4   30     Sunday     10  "
      ]
     },
     "execution_count": 28,
     "metadata": {},
     "output_type": "execute_result"
    }
   ],
   "source": [
    "transactions_aux['day'] = transactions_aux.transaction_date.apply(lambda date: date.day)\n",
    "transactions_aux['weekday'] = transactions_aux.transaction_date.apply(lambda date: date.day_name())\n",
    "transactions_aux['month'] = transactions_aux.transaction_date.apply(lambda date: date.month)\n",
    "transactions_analysis = transactions_aux.drop(columns=['transaction_date'])\n",
    "transactions_analysis.head()"
   ]
  },
  {
   "cell_type": "markdown",
   "metadata": {},
   "source": [
    "With the variables in the same dataframe and with the date features created, we can take a closer look in each one of them. For this reason, it will be plotted histograms to compare distributions of flagged and not flagged transactions to check for possible relations.\n",
    "\n",
    "Obs: heights indicate the relative value, not the absolute value (`density=True`)"
   ]
  },
  {
   "cell_type": "code",
   "execution_count": 29,
   "metadata": {
    "scrolled": false
   },
   "outputs": [
    {
     "data": {
      "text/plain": [
       "<Figure size 432x288 with 0 Axes>"
      ]
     },
     "metadata": {},
     "output_type": "display_data"
    },
    {
     "data": {
      "image/png": "[encoded data removed]",
      "text/plain": [
       "<Figure size 720x2880 with 10 Axes>"
      ]
     },
     "metadata": {
      "needs_background": "light"
     },
     "output_type": "display_data"
    }
   ],
   "source": [
    "plt.figure()\n",
    "columns = transactions_analysis.columns\n",
    "default_bin_size = transactions_analysis.select_dtypes('number').columns.drop('month')\n",
    "colors = ['limegreen', 'orangered']\n",
    "rows, cols = len(columns), 1\n",
    "fig, axs = plt.subplots(rows, cols, figsize=(cols*10, rows*4), squeeze=False)\n",
    "labels = ['Not flagged', 'Flagged']\n",
    "i, j = 0, 0\n",
    "for n in range(len(columns)):\n",
    "    axs[i, j].set_title('Histogram of %s'%columns[n])\n",
    "    if columns[n] == 'fraud_flag':\n",
    "        aux_fraud_hist = transactions_analysis[columns[n]].map({False: 'Not flagged', True: 'Flagged'})\n",
    "        axs[i, j].hist([aux_fraud_hist], density=True, color=colors[0])\n",
    "        axs[i, j].patches[-1].set_color(colors[1])\n",
    "    else:\n",
    "        if columns[n] in default_bin_size:\n",
    "            axs[i, j].hist([transactions_analysis[transactions_analysis.fraud_flag == False][columns[n]], transactions_analysis[transactions_analysis.fraud_flag == True][columns[n]]], density=True, label=labels, color=colors)\n",
    "        else:\n",
    "            axs[i, j].hist([transactions_analysis[transactions_analysis.fraud_flag == False][columns[n]], transactions_analysis[transactions_analysis.fraud_flag == True][columns[n]]], density=True, label=labels, bins=len(transactions_analysis[columns[n]].unique()), color=colors)\n",
    "        axs[i, j].legend(loc='best')\n",
    "    i, j = (i + 1, 0) if (n+1) % cols == 0 else (i, j + 1)\n",
    "for n2 in range(n+1, rows*cols):\n",
    "    fig.delaxes(axs[i, j])\n",
    "    i, j = (i + 1, 0) if (n2+1) % cols == 0 else (i, j + 1)\n",
    "fig.tight_layout()\n",
    "plt.show()"
   ]
  },
  {
   "cell_type": "markdown",
   "metadata": {},
   "source": [
    "Analyzing histogram by histogram:\n",
    "\n",
    "- `value`: While the green bars (not flagged as fraud) shows almost an uniform distribution, the red ones (flagged as fraud) doesn't. The latter indicates lower height at the first bar (around half of the green value) and higher at the seventh (around 50% more than the green value). So certain amounts of `value` can have some association with the flag;\n",
    "- `segment`: Once again the green bars tends to be uniform, but the red ones are far from it. Especially for SEG11 and SEG19, which presents values for flagged transactions around double and half the not flagged ones, respectively. Therefore, the segment may indicate a higher or lower chance of a fraud flag according to its value;\n",
    "- `fraud_flag`: This histogram just shows how unbalanced the dataset is. We can conclude that noise affects more the Flagged bars because of the fewer number of data, so we need to be more careful with it;\n",
    "- `card_family`: Both set of bars are really similar, therefore there doesn't seem to be some association with this feature;\n",
    "- `credit_limit`: The bars are similar. The difference may be caused by the fewer data points on the red data. So it probably doesn't have association either;\n",
    "- `age`: Around the value 30 and 45 the bars differ a little, but most of the others are similar. Because of this, this variable will be analyzed in another way later;\n",
    "- `segment_customer`: The small difference between the bars may be caused by the fewer data in this case too, but, to be sure, it will be analyzed later as well\n",
    "- `day`: Since both distributions recall it other, we will analyze it in another way later;\n",
    "- `weekday`: Most of days present similar bars, so the difference on Tuesdays and Saturdays are the only ones that may indicate a small correlation with the fraud flag;\n",
    "- `month`: By the graph, we can notice that September seems an outlier and, since I cannot think of an explanation for this specific month to present a different behaviour, my guess is that, once again, it is just a difference because of the number of data points for fraud flags."
   ]
  },
  {
   "cell_type": "markdown",
   "metadata": {},
   "source": [
    "Another way to analyze it is, instead of comparing the bars manually, we can use a feature selection technique to see the importance of each variable and the p-values associated. It gives us a statistical argument to say that some features (or values of features in case of dummified features) are somehow associated with the fraud flag."
   ]
  },
  {
   "cell_type": "code",
   "execution_count": 30,
   "metadata": {},
   "outputs": [
    {
     "data": {
      "image/png": "[encoded data removed]",
      "text/plain": [
       "<Figure size 864x360 with 1 Axes>"
      ]
     },
     "metadata": {
      "needs_background": "light"
     },
     "output_type": "display_data"
    },
    {
     "data": {
      "image/png": "[encoded data removed]",
      "text/plain": [
       "<Figure size 864x360 with 1 Axes>"
      ]
     },
     "metadata": {
      "needs_background": "light"
     },
     "output_type": "display_data"
    }
   ],
   "source": [
    "from sklearn.feature_selection import SelectKBest, f_classif\n",
    "\n",
    "# the categorical features will be dummified first\n",
    "dataset = pd.get_dummies(transactions_analysis)\n",
    "y = np.array(dataset.pop('fraud_flag'))\n",
    "X = np.array(dataset.values)\n",
    "\n",
    "sel = SelectKBest(f_classif, k='all').fit(X, y)\n",
    "\n",
    "importance_order = np.argsort((-sel.scores_))\n",
    "\n",
    "plt.figure(figsize=(12, 5))\n",
    "plt.bar(dataset.columns[importance_order], sel.scores_[importance_order], color=['limegreen'])\n",
    "plt.xticks(rotation=90)\n",
    "plt.show()\n",
    "\n",
    "plt.figure(figsize=(12, 5))\n",
    "plt.bar(dataset.columns[importance_order], sel.pvalues_[importance_order], color=['limegreen'])\n",
    "plt.xticks(rotation=90)\n",
    "plt.show()"
   ]
  },
  {
   "cell_type": "code",
   "execution_count": 31,
   "metadata": {},
   "outputs": [
    {
     "data": {
      "text/plain": [
       "Index(['segment_SEG11'], dtype='object')"
      ]
     },
     "execution_count": 31,
     "metadata": {},
     "output_type": "execute_result"
    }
   ],
   "source": [
    "dataset.columns[sel.pvalues_ < 0.05]"
   ]
  },
  {
   "cell_type": "code",
   "execution_count": 32,
   "metadata": {},
   "outputs": [
    {
     "data": {
      "text/plain": [
       "Index(['value', 'segment_SEG11', 'segment_SEG19', 'segment_SEG23',\n",
       "       'segment_customer_Gold', 'weekday_Tuesday'],\n",
       "      dtype='object')"
      ]
     },
     "execution_count": 32,
     "metadata": {},
     "output_type": "execute_result"
    }
   ],
   "source": [
    "dataset.columns[sel.pvalues_ < 0.14]"
   ]
  },
  {
   "cell_type": "markdown",
   "metadata": {},
   "source": [
    "The most statistically significant feature/value is `segment=SEG11`, while the least one is `month` (so September was, most likely, just an outlier). Besides that, we can see that other important ones are: `segment_customer=Gold`, `segment=SEG19`, `segment=SEG23`, `weekday=Tuesday` and `value`.\n",
    "\n",
    "And for the values that were left for later: `age` may have a small relation to fraud flag, while `day` doesn't seem to have; for `segment_customer`, the value `Gold` has certain importance, so the variable probably has some association with the fraud flag."
   ]
  },
  {
   "cell_type": "markdown",
   "metadata": {},
   "source": [
    "### Conclusions for exercise 2:\n",
    "\n"
   ]
  },
  {
   "cell_type": "markdown",
   "metadata": {},
   "source": [
    "The `segment` variable has the strongest association with the fraud flag (especially when equal to `SEG11`), but it's not the only one, the others are: `segment_customer`, `weekday` and `value`. While `age` and `credit_limit` are candidates of having a weaker association, however it's hard to be confident about it with only this data.\n",
    "\n",
    "The other variables doesn't seem to be associated with it."
   ]
  }
 ],
 "metadata": {
  "kernelspec": {
   "display_name": "Python 3",
   "language": "python",
   "name": "python3"
  },
  "language_info": {
   "codemirror_mode": {
    "name": "ipython",
    "version": 3
   },
   "file_extension": ".py",
   "mimetype": "text/x-python",
   "name": "python",
   "nbconvert_exporter": "python",
   "pygments_lexer": "ipython3",
   "version": "3.7.3"
  }
 },
 "nbformat": 4,
 "nbformat_minor": 2
}
